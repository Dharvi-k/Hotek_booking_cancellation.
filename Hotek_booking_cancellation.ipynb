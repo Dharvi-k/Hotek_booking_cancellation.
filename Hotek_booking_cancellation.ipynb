{
  "nbformat": 4,
  "nbformat_minor": 0,
  "metadata": {
    "colab": {
      "provenance": [],
      "authorship_tag": "ABX9TyNuTcNSLA28RXKlnjlXOKZM",
      "include_colab_link": true
    },
    "kernelspec": {
      "name": "python3",
      "display_name": "Python 3"
    },
    "language_info": {
      "name": "python"
    }
  },
  "cells": [
    {
      "cell_type": "markdown",
      "metadata": {
        "id": "view-in-github",
        "colab_type": "text"
      },
      "source": [
        "<a href=\"https://colab.research.google.com/github/Dharvi-k/DATA_ANALYSIS/blob/main/Hotek_booking_cancellation.ipynb\" target=\"_parent\"><img src=\"https://colab.research.google.com/assets/colab-badge.svg\" alt=\"Open In Colab\"/></a>"
      ]
    },
    {
      "cell_type": "markdown",
      "source": [
        "# ***An Exploratory Data Analysis to Identify Key Reasons Behind Booking Annihilation***"
      ],
      "metadata": {
        "id": "-UynYTDfWMWh"
      }
    },
    {
      "cell_type": "code",
      "execution_count": null,
      "metadata": {
        "id": "g6GcXdDkcInm"
      },
      "outputs": [],
      "source": [
        "import numpy as np\n",
        "import pandas as pd"
      ]
    },
    {
      "cell_type": "code",
      "source": [
        "# SET A SEED FOR REPRODUCABILITY\n",
        "np.random.seed(42)"
      ],
      "metadata": {
        "id": "VFL4dhXAck1L"
      },
      "execution_count": null,
      "outputs": []
    },
    {
      "cell_type": "markdown",
      "source": [
        "CREATE A HYPOTHETICAL DATASET\n"
      ],
      "metadata": {
        "id": "tu-KLGz4cocP"
      }
    },
    {
      "cell_type": "code",
      "source": [
        "n=500   #number of bookings\n",
        "\n",
        "data={\n",
        "    \"Booking_id\":np.arange(1,n+1),\n",
        "    \"is_canceled\":np.random.choice([0,1],size=n,p=[0.7,0.3]),\n",
        "    \"lead_time\":np.random.randint(1,365,size=n),\n",
        "    \"arrival_month\":np.random.randint(1,13,size=n),\n",
        "    \"deposit_type\":np.random.choice([\"No Deposit\", \"Non Refund\", \"Refundable\"],size=n,p=[0.8,0.15,0.05]),\n",
        "    \"customer_type\":np.random.choice([\"Transient\", \"Contract\", \"Group\", \"Transient-Party\"], size=n),\n",
        "    \"required_car_parking_spaces\":np.random.randint(1,3,size=n),\n",
        "    \"total_guests\":np.random.randint(1,5,size=n),\n",
        "    \"is_repeated_guest\":np.random.choice([0,1],size=n,p=[0.9,0.1])\n",
        "}\n",
        "\n",
        "df=pd.DataFrame(data)"
      ],
      "metadata": {
        "id": "xF4P9atTcprC"
      },
      "execution_count": null,
      "outputs": []
    },
    {
      "cell_type": "code",
      "source": [
        "# MOVING THE DATA TO EXCEL SHEET\n",
        "df.to_excel(\"hotel_booking_data.xlsx\",index=False)\n",
        "\n",
        "# PRININTING FIRST 5 SAMPLE OF OUR DATA\n",
        "print(df.head())"
      ],
      "metadata": {
        "colab": {
          "base_uri": "https://localhost:8080/"
        },
        "collapsed": true,
        "id": "Jn7LIpomdHTh",
        "outputId": "9dc8ebb2-172f-42fd-fe84-8e7865c96b79"
      },
      "execution_count": null,
      "outputs": [
        {
          "output_type": "stream",
          "name": "stdout",
          "text": [
            "   Booking_id  is_canceled  lead_time  arrival_month deposit_type  \\\n",
            "0           1            0        145              4   Non Refund   \n",
            "1           2            1        201              6   No Deposit   \n",
            "2           3            1        212              6   No Deposit   \n",
            "3           4            0        220             12   No Deposit   \n",
            "4           5            0        240              8   No Deposit   \n",
            "\n",
            "  customer_type  required_car_parking_spaces  total_guests  is_repeated_guest  \n",
            "0      Contract                            1             3                  0  \n",
            "1     Transient                            1             3                  0  \n",
            "2         Group                            1             4                  0  \n",
            "3     Transient                            2             3                  0  \n",
            "4         Group                            1             3                  0  \n"
          ]
        }
      ]
    },
    {
      "cell_type": "markdown",
      "source": [
        "GET BASIC INFO AND SUMMARY"
      ],
      "metadata": {
        "id": "CVNdvnXIdrp1"
      }
    },
    {
      "cell_type": "code",
      "source": [
        "print(df.info())"
      ],
      "metadata": {
        "colab": {
          "base_uri": "https://localhost:8080/"
        },
        "id": "lXL-wFIHduyo",
        "outputId": "34732839-9652-401a-da64-be60e8e4e8d8"
      },
      "execution_count": null,
      "outputs": [
        {
          "output_type": "stream",
          "name": "stdout",
          "text": [
            "<class 'pandas.core.frame.DataFrame'>\n",
            "RangeIndex: 500 entries, 0 to 499\n",
            "Data columns (total 9 columns):\n",
            " #   Column                       Non-Null Count  Dtype \n",
            "---  ------                       --------------  ----- \n",
            " 0   Booking_id                   500 non-null    int64 \n",
            " 1   is_canceled                  500 non-null    int64 \n",
            " 2   lead_time                    500 non-null    int64 \n",
            " 3   arrival_month                500 non-null    int64 \n",
            " 4   deposit_type                 500 non-null    object\n",
            " 5   customer_type                500 non-null    object\n",
            " 6   required_car_parking_spaces  500 non-null    int64 \n",
            " 7   total_guests                 500 non-null    int64 \n",
            " 8   is_repeated_guest            500 non-null    int64 \n",
            "dtypes: int64(7), object(2)\n",
            "memory usage: 35.3+ KB\n",
            "None\n"
          ]
        }
      ]
    },
    {
      "cell_type": "code",
      "source": [
        "# SUMMARY STATISCTICS FOR NUMERIC COLUMNS\n",
        "print(df.describe())"
      ],
      "metadata": {
        "colab": {
          "base_uri": "https://localhost:8080/"
        },
        "id": "lanx4jTsdyTk",
        "outputId": "8816d14b-df3c-4ad9-e1f8-30f82d3e75b2"
      },
      "execution_count": null,
      "outputs": [
        {
          "output_type": "stream",
          "name": "stdout",
          "text": [
            "       Booking_id  is_canceled   lead_time  arrival_month  \\\n",
            "count  500.000000   500.000000  500.000000     500.000000   \n",
            "mean   250.500000     0.308000  181.468000       6.444000   \n",
            "std    144.481833     0.462129  107.544002       3.476065   \n",
            "min      1.000000     0.000000    1.000000       1.000000   \n",
            "25%    125.750000     0.000000   91.500000       3.000000   \n",
            "50%    250.500000     0.000000  179.000000       7.000000   \n",
            "75%    375.250000     1.000000  282.250000       9.000000   \n",
            "max    500.000000     1.000000  364.000000      12.000000   \n",
            "\n",
            "       required_car_parking_spaces  total_guests  is_repeated_guest  \n",
            "count                   500.000000    500.000000         500.000000  \n",
            "mean                      1.534000      2.474000           0.104000  \n",
            "std                       0.499342      1.131319           0.305566  \n",
            "min                       1.000000      1.000000           0.000000  \n",
            "25%                       1.000000      1.000000           0.000000  \n",
            "50%                       2.000000      3.000000           0.000000  \n",
            "75%                       2.000000      3.000000           0.000000  \n",
            "max                       2.000000      4.000000           1.000000  \n"
          ]
        }
      ]
    },
    {
      "cell_type": "code",
      "source": [
        "# CHECK FOR MISSING VALUES\n",
        "print(df.isnull().sum())"
      ],
      "metadata": {
        "colab": {
          "base_uri": "https://localhost:8080/"
        },
        "id": "VMaGBDjyd3h1",
        "outputId": "9ea9d3e3-f95c-43e6-888c-a4b99de58c44"
      },
      "execution_count": null,
      "outputs": [
        {
          "output_type": "stream",
          "name": "stdout",
          "text": [
            "Booking_id                     0\n",
            "is_canceled                    0\n",
            "lead_time                      0\n",
            "arrival_month                  0\n",
            "deposit_type                   0\n",
            "customer_type                  0\n",
            "required_car_parking_spaces    0\n",
            "total_guests                   0\n",
            "is_repeated_guest              0\n",
            "dtype: int64\n"
          ]
        }
      ]
    },
    {
      "cell_type": "code",
      "source": [
        "# UNDERSTAND UNIQUE VALUES IN COLUMNS\n",
        "print(df[\"customer_type\"].value_counts())\n",
        "print(df[\"deposit_type\"].value_counts())\n",
        "print(df[\"is_canceled\"].value_counts())"
      ],
      "metadata": {
        "colab": {
          "base_uri": "https://localhost:8080/"
        },
        "id": "KcKhuU_sd68g",
        "outputId": "4129640f-f907-43ba-e2c6-b38e2985f190"
      },
      "execution_count": null,
      "outputs": [
        {
          "output_type": "stream",
          "name": "stdout",
          "text": [
            "customer_type\n",
            "Transient-Party    134\n",
            "Transient          131\n",
            "Contract           124\n",
            "Group              111\n",
            "Name: count, dtype: int64\n",
            "deposit_type\n",
            "No Deposit    413\n",
            "Non Refund     64\n",
            "Refundable     23\n",
            "Name: count, dtype: int64\n",
            "is_canceled\n",
            "0    346\n",
            "1    154\n",
            "Name: count, dtype: int64\n"
          ]
        }
      ]
    },
    {
      "cell_type": "markdown",
      "source": [
        "**Analyze Reasons for Cancellations**\n"
      ],
      "metadata": {
        "id": "I1jpVTzvePPL"
      }
    },
    {
      "cell_type": "markdown",
      "source": [
        "*“What factors are linked to cancellations?”\n",
        "\n",
        "We’ll:\n",
        "\n",
        "1.Compare average values for canceled vs. non-canceled bookings\n",
        "\n",
        "2.Use visualizations to find patterns *"
      ],
      "metadata": {
        "id": "ody9kmWQeY8c"
      }
    },
    {
      "cell_type": "code",
      "source": [
        "df.groupby('is_canceled').mean(numeric_only=True)"
      ],
      "metadata": {
        "colab": {
          "base_uri": "https://localhost:8080/",
          "height": 143
        },
        "collapsed": true,
        "id": "DlyB1TsOd_Wt",
        "outputId": "ebe312a6-0213-4868-f754-f6be5abb49a8"
      },
      "execution_count": null,
      "outputs": [
        {
          "output_type": "execute_result",
          "data": {
            "text/plain": [
              "             Booking_id   lead_time  arrival_month  \\\n",
              "is_canceled                                          \n",
              "0            247.352601  179.526012       6.387283   \n",
              "1            257.571429  185.831169       6.571429   \n",
              "\n",
              "             required_car_parking_spaces  total_guests  is_repeated_guest  \n",
              "is_canceled                                                                \n",
              "0                               1.528902      2.445087           0.101156  \n",
              "1                               1.545455      2.538961           0.110390  "
            ],
            "text/html": [
              "\n",
              "  <div id=\"df-1f7ea46e-20d2-4a56-8ca4-04ebcc1e10bd\" class=\"colab-df-container\">\n",
              "    <div>\n",
              "<style scoped>\n",
              "    .dataframe tbody tr th:only-of-type {\n",
              "        vertical-align: middle;\n",
              "    }\n",
              "\n",
              "    .dataframe tbody tr th {\n",
              "        vertical-align: top;\n",
              "    }\n",
              "\n",
              "    .dataframe thead th {\n",
              "        text-align: right;\n",
              "    }\n",
              "</style>\n",
              "<table border=\"1\" class=\"dataframe\">\n",
              "  <thead>\n",
              "    <tr style=\"text-align: right;\">\n",
              "      <th></th>\n",
              "      <th>Booking_id</th>\n",
              "      <th>lead_time</th>\n",
              "      <th>arrival_month</th>\n",
              "      <th>required_car_parking_spaces</th>\n",
              "      <th>total_guests</th>\n",
              "      <th>is_repeated_guest</th>\n",
              "    </tr>\n",
              "    <tr>\n",
              "      <th>is_canceled</th>\n",
              "      <th></th>\n",
              "      <th></th>\n",
              "      <th></th>\n",
              "      <th></th>\n",
              "      <th></th>\n",
              "      <th></th>\n",
              "    </tr>\n",
              "  </thead>\n",
              "  <tbody>\n",
              "    <tr>\n",
              "      <th>0</th>\n",
              "      <td>247.352601</td>\n",
              "      <td>179.526012</td>\n",
              "      <td>6.387283</td>\n",
              "      <td>1.528902</td>\n",
              "      <td>2.445087</td>\n",
              "      <td>0.101156</td>\n",
              "    </tr>\n",
              "    <tr>\n",
              "      <th>1</th>\n",
              "      <td>257.571429</td>\n",
              "      <td>185.831169</td>\n",
              "      <td>6.571429</td>\n",
              "      <td>1.545455</td>\n",
              "      <td>2.538961</td>\n",
              "      <td>0.110390</td>\n",
              "    </tr>\n",
              "  </tbody>\n",
              "</table>\n",
              "</div>\n",
              "    <div class=\"colab-df-buttons\">\n",
              "\n",
              "  <div class=\"colab-df-container\">\n",
              "    <button class=\"colab-df-convert\" onclick=\"convertToInteractive('df-1f7ea46e-20d2-4a56-8ca4-04ebcc1e10bd')\"\n",
              "            title=\"Convert this dataframe to an interactive table.\"\n",
              "            style=\"display:none;\">\n",
              "\n",
              "  <svg xmlns=\"http://www.w3.org/2000/svg\" height=\"24px\" viewBox=\"0 -960 960 960\">\n",
              "    <path d=\"M120-120v-720h720v720H120Zm60-500h600v-160H180v160Zm220 220h160v-160H400v160Zm0 220h160v-160H400v160ZM180-400h160v-160H180v160Zm440 0h160v-160H620v160ZM180-180h160v-160H180v160Zm440 0h160v-160H620v160Z\"/>\n",
              "  </svg>\n",
              "    </button>\n",
              "\n",
              "  <style>\n",
              "    .colab-df-container {\n",
              "      display:flex;\n",
              "      gap: 12px;\n",
              "    }\n",
              "\n",
              "    .colab-df-convert {\n",
              "      background-color: #E8F0FE;\n",
              "      border: none;\n",
              "      border-radius: 50%;\n",
              "      cursor: pointer;\n",
              "      display: none;\n",
              "      fill: #1967D2;\n",
              "      height: 32px;\n",
              "      padding: 0 0 0 0;\n",
              "      width: 32px;\n",
              "    }\n",
              "\n",
              "    .colab-df-convert:hover {\n",
              "      background-color: #E2EBFA;\n",
              "      box-shadow: 0px 1px 2px rgba(60, 64, 67, 0.3), 0px 1px 3px 1px rgba(60, 64, 67, 0.15);\n",
              "      fill: #174EA6;\n",
              "    }\n",
              "\n",
              "    .colab-df-buttons div {\n",
              "      margin-bottom: 4px;\n",
              "    }\n",
              "\n",
              "    [theme=dark] .colab-df-convert {\n",
              "      background-color: #3B4455;\n",
              "      fill: #D2E3FC;\n",
              "    }\n",
              "\n",
              "    [theme=dark] .colab-df-convert:hover {\n",
              "      background-color: #434B5C;\n",
              "      box-shadow: 0px 1px 3px 1px rgba(0, 0, 0, 0.15);\n",
              "      filter: drop-shadow(0px 1px 2px rgba(0, 0, 0, 0.3));\n",
              "      fill: #FFFFFF;\n",
              "    }\n",
              "  </style>\n",
              "\n",
              "    <script>\n",
              "      const buttonEl =\n",
              "        document.querySelector('#df-1f7ea46e-20d2-4a56-8ca4-04ebcc1e10bd button.colab-df-convert');\n",
              "      buttonEl.style.display =\n",
              "        google.colab.kernel.accessAllowed ? 'block' : 'none';\n",
              "\n",
              "      async function convertToInteractive(key) {\n",
              "        const element = document.querySelector('#df-1f7ea46e-20d2-4a56-8ca4-04ebcc1e10bd');\n",
              "        const dataTable =\n",
              "          await google.colab.kernel.invokeFunction('convertToInteractive',\n",
              "                                                    [key], {});\n",
              "        if (!dataTable) return;\n",
              "\n",
              "        const docLinkHtml = 'Like what you see? Visit the ' +\n",
              "          '<a target=\"_blank\" href=https://colab.research.google.com/notebooks/data_table.ipynb>data table notebook</a>'\n",
              "          + ' to learn more about interactive tables.';\n",
              "        element.innerHTML = '';\n",
              "        dataTable['output_type'] = 'display_data';\n",
              "        await google.colab.output.renderOutput(dataTable, element);\n",
              "        const docLink = document.createElement('div');\n",
              "        docLink.innerHTML = docLinkHtml;\n",
              "        element.appendChild(docLink);\n",
              "      }\n",
              "    </script>\n",
              "  </div>\n",
              "\n",
              "\n",
              "    <div id=\"df-9a2598d9-06e3-476b-a6fa-4d45d008f034\">\n",
              "      <button class=\"colab-df-quickchart\" onclick=\"quickchart('df-9a2598d9-06e3-476b-a6fa-4d45d008f034')\"\n",
              "                title=\"Suggest charts\"\n",
              "                style=\"display:none;\">\n",
              "\n",
              "<svg xmlns=\"http://www.w3.org/2000/svg\" height=\"24px\"viewBox=\"0 0 24 24\"\n",
              "     width=\"24px\">\n",
              "    <g>\n",
              "        <path d=\"M19 3H5c-1.1 0-2 .9-2 2v14c0 1.1.9 2 2 2h14c1.1 0 2-.9 2-2V5c0-1.1-.9-2-2-2zM9 17H7v-7h2v7zm4 0h-2V7h2v10zm4 0h-2v-4h2v4z\"/>\n",
              "    </g>\n",
              "</svg>\n",
              "      </button>\n",
              "\n",
              "<style>\n",
              "  .colab-df-quickchart {\n",
              "      --bg-color: #E8F0FE;\n",
              "      --fill-color: #1967D2;\n",
              "      --hover-bg-color: #E2EBFA;\n",
              "      --hover-fill-color: #174EA6;\n",
              "      --disabled-fill-color: #AAA;\n",
              "      --disabled-bg-color: #DDD;\n",
              "  }\n",
              "\n",
              "  [theme=dark] .colab-df-quickchart {\n",
              "      --bg-color: #3B4455;\n",
              "      --fill-color: #D2E3FC;\n",
              "      --hover-bg-color: #434B5C;\n",
              "      --hover-fill-color: #FFFFFF;\n",
              "      --disabled-bg-color: #3B4455;\n",
              "      --disabled-fill-color: #666;\n",
              "  }\n",
              "\n",
              "  .colab-df-quickchart {\n",
              "    background-color: var(--bg-color);\n",
              "    border: none;\n",
              "    border-radius: 50%;\n",
              "    cursor: pointer;\n",
              "    display: none;\n",
              "    fill: var(--fill-color);\n",
              "    height: 32px;\n",
              "    padding: 0;\n",
              "    width: 32px;\n",
              "  }\n",
              "\n",
              "  .colab-df-quickchart:hover {\n",
              "    background-color: var(--hover-bg-color);\n",
              "    box-shadow: 0 1px 2px rgba(60, 64, 67, 0.3), 0 1px 3px 1px rgba(60, 64, 67, 0.15);\n",
              "    fill: var(--button-hover-fill-color);\n",
              "  }\n",
              "\n",
              "  .colab-df-quickchart-complete:disabled,\n",
              "  .colab-df-quickchart-complete:disabled:hover {\n",
              "    background-color: var(--disabled-bg-color);\n",
              "    fill: var(--disabled-fill-color);\n",
              "    box-shadow: none;\n",
              "  }\n",
              "\n",
              "  .colab-df-spinner {\n",
              "    border: 2px solid var(--fill-color);\n",
              "    border-color: transparent;\n",
              "    border-bottom-color: var(--fill-color);\n",
              "    animation:\n",
              "      spin 1s steps(1) infinite;\n",
              "  }\n",
              "\n",
              "  @keyframes spin {\n",
              "    0% {\n",
              "      border-color: transparent;\n",
              "      border-bottom-color: var(--fill-color);\n",
              "      border-left-color: var(--fill-color);\n",
              "    }\n",
              "    20% {\n",
              "      border-color: transparent;\n",
              "      border-left-color: var(--fill-color);\n",
              "      border-top-color: var(--fill-color);\n",
              "    }\n",
              "    30% {\n",
              "      border-color: transparent;\n",
              "      border-left-color: var(--fill-color);\n",
              "      border-top-color: var(--fill-color);\n",
              "      border-right-color: var(--fill-color);\n",
              "    }\n",
              "    40% {\n",
              "      border-color: transparent;\n",
              "      border-right-color: var(--fill-color);\n",
              "      border-top-color: var(--fill-color);\n",
              "    }\n",
              "    60% {\n",
              "      border-color: transparent;\n",
              "      border-right-color: var(--fill-color);\n",
              "    }\n",
              "    80% {\n",
              "      border-color: transparent;\n",
              "      border-right-color: var(--fill-color);\n",
              "      border-bottom-color: var(--fill-color);\n",
              "    }\n",
              "    90% {\n",
              "      border-color: transparent;\n",
              "      border-bottom-color: var(--fill-color);\n",
              "    }\n",
              "  }\n",
              "</style>\n",
              "\n",
              "      <script>\n",
              "        async function quickchart(key) {\n",
              "          const quickchartButtonEl =\n",
              "            document.querySelector('#' + key + ' button');\n",
              "          quickchartButtonEl.disabled = true;  // To prevent multiple clicks.\n",
              "          quickchartButtonEl.classList.add('colab-df-spinner');\n",
              "          try {\n",
              "            const charts = await google.colab.kernel.invokeFunction(\n",
              "                'suggestCharts', [key], {});\n",
              "          } catch (error) {\n",
              "            console.error('Error during call to suggestCharts:', error);\n",
              "          }\n",
              "          quickchartButtonEl.classList.remove('colab-df-spinner');\n",
              "          quickchartButtonEl.classList.add('colab-df-quickchart-complete');\n",
              "        }\n",
              "        (() => {\n",
              "          let quickchartButtonEl =\n",
              "            document.querySelector('#df-9a2598d9-06e3-476b-a6fa-4d45d008f034 button');\n",
              "          quickchartButtonEl.style.display =\n",
              "            google.colab.kernel.accessAllowed ? 'block' : 'none';\n",
              "        })();\n",
              "      </script>\n",
              "    </div>\n",
              "\n",
              "    </div>\n",
              "  </div>\n"
            ],
            "application/vnd.google.colaboratory.intrinsic+json": {
              "type": "dataframe",
              "summary": "{\n  \"name\": \"df\",\n  \"rows\": 2,\n  \"fields\": [\n    {\n      \"column\": \"is_canceled\",\n      \"properties\": {\n        \"dtype\": \"number\",\n        \"std\": 0,\n        \"min\": 0,\n        \"max\": 1,\n        \"num_unique_values\": 2,\n        \"samples\": [\n          1,\n          0\n        ],\n        \"semantic_type\": \"\",\n        \"description\": \"\"\n      }\n    },\n    {\n      \"column\": \"Booking_id\",\n      \"properties\": {\n        \"dtype\": \"number\",\n        \"std\": 7.225802161175481,\n        \"min\": 247.35260115606937,\n        \"max\": 257.57142857142856,\n        \"num_unique_values\": 2,\n        \"samples\": [\n          257.57142857142856,\n          247.35260115606937\n        ],\n        \"semantic_type\": \"\",\n        \"description\": \"\"\n      }\n    },\n    {\n      \"column\": \"lead_time\",\n      \"properties\": {\n        \"dtype\": \"number\",\n        \"std\": 4.4584194624006805,\n        \"min\": 179.52601156069363,\n        \"max\": 185.83116883116884,\n        \"num_unique_values\": 2,\n        \"samples\": [\n          185.83116883116884,\n          179.52601156069363\n        ],\n        \"semantic_type\": \"\",\n        \"description\": \"\"\n      }\n    },\n    {\n      \"column\": \"arrival_month\",\n      \"properties\": {\n        \"dtype\": \"number\",\n        \"std\": 0.13021041470239447,\n        \"min\": 6.38728323699422,\n        \"max\": 6.571428571428571,\n        \"num_unique_values\": 2,\n        \"samples\": [\n          6.571428571428571,\n          6.38728323699422\n        ],\n        \"semantic_type\": \"\",\n        \"description\": \"\"\n      }\n    },\n    {\n      \"column\": \"required_car_parking_spaces\",\n      \"properties\": {\n        \"dtype\": \"number\",\n        \"std\": 0.011704605153639589,\n        \"min\": 1.5289017341040463,\n        \"max\": 1.5454545454545454,\n        \"num_unique_values\": 2,\n        \"samples\": [\n          1.5454545454545454,\n          1.5289017341040463\n        ],\n        \"semantic_type\": \"\",\n        \"description\": \"\"\n      }\n    },\n    {\n      \"column\": \"total_guests\",\n      \"properties\": {\n        \"dtype\": \"number\",\n        \"std\": 0.06637917798016503,\n        \"min\": 2.445086705202312,\n        \"max\": 2.538961038961039,\n        \"num_unique_values\": 2,\n        \"samples\": [\n          2.538961038961039,\n          2.445086705202312\n        ],\n        \"semantic_type\": \"\",\n        \"description\": \"\"\n      }\n    },\n    {\n      \"column\": \"is_repeated_guest\",\n      \"properties\": {\n        \"dtype\": \"number\",\n        \"std\": 0.006529099473458843,\n        \"min\": 0.10115606936416185,\n        \"max\": 0.11038961038961038,\n        \"num_unique_values\": 2,\n        \"samples\": [\n          0.11038961038961038,\n          0.10115606936416185\n        ],\n        \"semantic_type\": \"\",\n        \"description\": \"\"\n      }\n    }\n  ]\n}"
            }
          },
          "metadata": {},
          "execution_count": 9
        }
      ]
    },
    {
      "cell_type": "markdown",
      "source": [
        "What do we learn from all this?\n",
        "Lead time is the biggest clue — longer wait = more cancellations.\n",
        "\n",
        "Other features don’t show strong patterns yet but we might get more insights if we check:\n",
        "\n",
        "deposit_type\n",
        "\n",
        "customer_type\n",
        "\n",
        "previous_cancellations"
      ],
      "metadata": {
        "id": "Tdigc0f6hZ20"
      }
    },
    {
      "cell_type": "markdown",
      "source": [
        " Step 1: Use value_counts() to see deposit types"
      ],
      "metadata": {
        "id": "kQ9Njia0hsvK"
      }
    },
    {
      "cell_type": "code",
      "source": [
        "df['deposit_type'].value_counts()"
      ],
      "metadata": {
        "colab": {
          "base_uri": "https://localhost:8080/",
          "height": 209
        },
        "id": "ap-pUguShozb",
        "outputId": "7c0bbbdf-595c-43fc-b0fc-52bf5c75838a"
      },
      "execution_count": null,
      "outputs": [
        {
          "output_type": "execute_result",
          "data": {
            "text/plain": [
              "deposit_type\n",
              "No Deposit    413\n",
              "Non Refund     64\n",
              "Refundable     23\n",
              "Name: count, dtype: int64"
            ],
            "text/html": [
              "<div>\n",
              "<style scoped>\n",
              "    .dataframe tbody tr th:only-of-type {\n",
              "        vertical-align: middle;\n",
              "    }\n",
              "\n",
              "    .dataframe tbody tr th {\n",
              "        vertical-align: top;\n",
              "    }\n",
              "\n",
              "    .dataframe thead th {\n",
              "        text-align: right;\n",
              "    }\n",
              "</style>\n",
              "<table border=\"1\" class=\"dataframe\">\n",
              "  <thead>\n",
              "    <tr style=\"text-align: right;\">\n",
              "      <th></th>\n",
              "      <th>count</th>\n",
              "    </tr>\n",
              "    <tr>\n",
              "      <th>deposit_type</th>\n",
              "      <th></th>\n",
              "    </tr>\n",
              "  </thead>\n",
              "  <tbody>\n",
              "    <tr>\n",
              "      <th>No Deposit</th>\n",
              "      <td>413</td>\n",
              "    </tr>\n",
              "    <tr>\n",
              "      <th>Non Refund</th>\n",
              "      <td>64</td>\n",
              "    </tr>\n",
              "    <tr>\n",
              "      <th>Refundable</th>\n",
              "      <td>23</td>\n",
              "    </tr>\n",
              "  </tbody>\n",
              "</table>\n",
              "</div><br><label><b>dtype:</b> int64</label>"
            ]
          },
          "metadata": {},
          "execution_count": 10
        }
      ]
    },
    {
      "cell_type": "markdown",
      "source": [
        " Step 2: Use groupby() to compare deposit type with cancellations"
      ],
      "metadata": {
        "id": "Uv885SUMiIMD"
      }
    },
    {
      "cell_type": "code",
      "source": [
        "df.groupby('deposit_type')['is_canceled'].value_counts(normalize=True)  #normalize=True shows percentages, which is easier to understand."
      ],
      "metadata": {
        "colab": {
          "base_uri": "https://localhost:8080/",
          "height": 303
        },
        "id": "T20Fq86GiJNV",
        "outputId": "f0810937-66a3-4514-c139-b6baea717374"
      },
      "execution_count": null,
      "outputs": [
        {
          "output_type": "execute_result",
          "data": {
            "text/plain": [
              "deposit_type  is_canceled\n",
              "No Deposit    0              0.675545\n",
              "              1              0.324455\n",
              "Non Refund    0              0.828125\n",
              "              1              0.171875\n",
              "Refundable    0              0.608696\n",
              "              1              0.391304\n",
              "Name: proportion, dtype: float64"
            ],
            "text/html": [
              "<div>\n",
              "<style scoped>\n",
              "    .dataframe tbody tr th:only-of-type {\n",
              "        vertical-align: middle;\n",
              "    }\n",
              "\n",
              "    .dataframe tbody tr th {\n",
              "        vertical-align: top;\n",
              "    }\n",
              "\n",
              "    .dataframe thead th {\n",
              "        text-align: right;\n",
              "    }\n",
              "</style>\n",
              "<table border=\"1\" class=\"dataframe\">\n",
              "  <thead>\n",
              "    <tr style=\"text-align: right;\">\n",
              "      <th></th>\n",
              "      <th></th>\n",
              "      <th>proportion</th>\n",
              "    </tr>\n",
              "    <tr>\n",
              "      <th>deposit_type</th>\n",
              "      <th>is_canceled</th>\n",
              "      <th></th>\n",
              "    </tr>\n",
              "  </thead>\n",
              "  <tbody>\n",
              "    <tr>\n",
              "      <th rowspan=\"2\" valign=\"top\">No Deposit</th>\n",
              "      <th>0</th>\n",
              "      <td>0.675545</td>\n",
              "    </tr>\n",
              "    <tr>\n",
              "      <th>1</th>\n",
              "      <td>0.324455</td>\n",
              "    </tr>\n",
              "    <tr>\n",
              "      <th rowspan=\"2\" valign=\"top\">Non Refund</th>\n",
              "      <th>0</th>\n",
              "      <td>0.828125</td>\n",
              "    </tr>\n",
              "    <tr>\n",
              "      <th>1</th>\n",
              "      <td>0.171875</td>\n",
              "    </tr>\n",
              "    <tr>\n",
              "      <th rowspan=\"2\" valign=\"top\">Refundable</th>\n",
              "      <th>0</th>\n",
              "      <td>0.608696</td>\n",
              "    </tr>\n",
              "    <tr>\n",
              "      <th>1</th>\n",
              "      <td>0.391304</td>\n",
              "    </tr>\n",
              "  </tbody>\n",
              "</table>\n",
              "</div><br><label><b>dtype:</b> float64</label>"
            ]
          },
          "metadata": {},
          "execution_count": 11
        }
      ]
    },
    {
      "cell_type": "markdown",
      "source": [
        "🧾 Summary:\n",
        "\n",
        "Refundable deposits → most risky\n",
        "\n",
        "Non Refundable deposits → people tend to show up\n",
        "\n",
        "No Deposit is somewhere in the middle\n"
      ],
      "metadata": {
        "id": "M-EZv9s7jI_Z"
      }
    },
    {
      "cell_type": "markdown",
      "source": [
        "**we check customer_type and how it affects cancellations?**"
      ],
      "metadata": {
        "id": "NadoOMCojXMP"
      }
    },
    {
      "cell_type": "code",
      "source": [
        "df['customer_type'].value_counts()"
      ],
      "metadata": {
        "colab": {
          "base_uri": "https://localhost:8080/",
          "height": 240
        },
        "id": "1XVOzsSWjeEn",
        "outputId": "a095c099-d856-4217-ddf4-3b47e6a9422c"
      },
      "execution_count": null,
      "outputs": [
        {
          "output_type": "execute_result",
          "data": {
            "text/plain": [
              "customer_type\n",
              "Transient-Party    134\n",
              "Transient          131\n",
              "Contract           124\n",
              "Group              111\n",
              "Name: count, dtype: int64"
            ],
            "text/html": [
              "<div>\n",
              "<style scoped>\n",
              "    .dataframe tbody tr th:only-of-type {\n",
              "        vertical-align: middle;\n",
              "    }\n",
              "\n",
              "    .dataframe tbody tr th {\n",
              "        vertical-align: top;\n",
              "    }\n",
              "\n",
              "    .dataframe thead th {\n",
              "        text-align: right;\n",
              "    }\n",
              "</style>\n",
              "<table border=\"1\" class=\"dataframe\">\n",
              "  <thead>\n",
              "    <tr style=\"text-align: right;\">\n",
              "      <th></th>\n",
              "      <th>count</th>\n",
              "    </tr>\n",
              "    <tr>\n",
              "      <th>customer_type</th>\n",
              "      <th></th>\n",
              "    </tr>\n",
              "  </thead>\n",
              "  <tbody>\n",
              "    <tr>\n",
              "      <th>Transient-Party</th>\n",
              "      <td>134</td>\n",
              "    </tr>\n",
              "    <tr>\n",
              "      <th>Transient</th>\n",
              "      <td>131</td>\n",
              "    </tr>\n",
              "    <tr>\n",
              "      <th>Contract</th>\n",
              "      <td>124</td>\n",
              "    </tr>\n",
              "    <tr>\n",
              "      <th>Group</th>\n",
              "      <td>111</td>\n",
              "    </tr>\n",
              "  </tbody>\n",
              "</table>\n",
              "</div><br><label><b>dtype:</b> int64</label>"
            ]
          },
          "metadata": {},
          "execution_count": 12
        }
      ]
    },
    {
      "cell_type": "code",
      "source": [
        "df.groupby('customer_type')['is_canceled'].value_counts(normalize=True)"
      ],
      "metadata": {
        "colab": {
          "base_uri": "https://localhost:8080/",
          "height": 366
        },
        "id": "9_gpy_g-jnOi",
        "outputId": "6013d6ae-6631-4a60-c194-764367f92738"
      },
      "execution_count": null,
      "outputs": [
        {
          "output_type": "execute_result",
          "data": {
            "text/plain": [
              "customer_type    is_canceled\n",
              "Contract         0              0.709677\n",
              "                 1              0.290323\n",
              "Group            0              0.702703\n",
              "                 1              0.297297\n",
              "Transient        0              0.694656\n",
              "                 1              0.305344\n",
              "Transient-Party  0              0.664179\n",
              "                 1              0.335821\n",
              "Name: proportion, dtype: float64"
            ],
            "text/html": [
              "<div>\n",
              "<style scoped>\n",
              "    .dataframe tbody tr th:only-of-type {\n",
              "        vertical-align: middle;\n",
              "    }\n",
              "\n",
              "    .dataframe tbody tr th {\n",
              "        vertical-align: top;\n",
              "    }\n",
              "\n",
              "    .dataframe thead th {\n",
              "        text-align: right;\n",
              "    }\n",
              "</style>\n",
              "<table border=\"1\" class=\"dataframe\">\n",
              "  <thead>\n",
              "    <tr style=\"text-align: right;\">\n",
              "      <th></th>\n",
              "      <th></th>\n",
              "      <th>proportion</th>\n",
              "    </tr>\n",
              "    <tr>\n",
              "      <th>customer_type</th>\n",
              "      <th>is_canceled</th>\n",
              "      <th></th>\n",
              "    </tr>\n",
              "  </thead>\n",
              "  <tbody>\n",
              "    <tr>\n",
              "      <th rowspan=\"2\" valign=\"top\">Contract</th>\n",
              "      <th>0</th>\n",
              "      <td>0.709677</td>\n",
              "    </tr>\n",
              "    <tr>\n",
              "      <th>1</th>\n",
              "      <td>0.290323</td>\n",
              "    </tr>\n",
              "    <tr>\n",
              "      <th rowspan=\"2\" valign=\"top\">Group</th>\n",
              "      <th>0</th>\n",
              "      <td>0.702703</td>\n",
              "    </tr>\n",
              "    <tr>\n",
              "      <th>1</th>\n",
              "      <td>0.297297</td>\n",
              "    </tr>\n",
              "    <tr>\n",
              "      <th rowspan=\"2\" valign=\"top\">Transient</th>\n",
              "      <th>0</th>\n",
              "      <td>0.694656</td>\n",
              "    </tr>\n",
              "    <tr>\n",
              "      <th>1</th>\n",
              "      <td>0.305344</td>\n",
              "    </tr>\n",
              "    <tr>\n",
              "      <th rowspan=\"2\" valign=\"top\">Transient-Party</th>\n",
              "      <th>0</th>\n",
              "      <td>0.664179</td>\n",
              "    </tr>\n",
              "    <tr>\n",
              "      <th>1</th>\n",
              "      <td>0.335821</td>\n",
              "    </tr>\n",
              "  </tbody>\n",
              "</table>\n",
              "</div><br><label><b>dtype:</b> float64</label>"
            ]
          },
          "metadata": {},
          "execution_count": 13
        }
      ]
    },
    {
      "cell_type": "markdown",
      "source": [
        " 🧾Summary:\n",
        "\n",
        "📌 Transient-Party = most cancellations\n",
        "\n",
        "📌 Contract = most reliable customers\n",
        "\n",
        "📌 So, marketing team should target contracts, and maybe double-confirm\n",
        "with Transient-Party bookings"
      ],
      "metadata": {
        "id": "0Qu5sbOrk1sM"
      }
    },
    {
      "cell_type": "markdown",
      "source": [
        "# ***we move on to analyzing lead time and whether early bookings are more likely to cancel?***"
      ],
      "metadata": {
        "id": "0MA6JqK2lKHn"
      }
    },
    {
      "cell_type": "markdown",
      "source": [
        "lead_time = number of days between booking date and arrival date\n",
        "\n",
        "So we’ll now check:\n",
        "\n",
        "\n",
        "“Are cancellations more common when lead_time is high?”"
      ],
      "metadata": {
        "id": "Ly0l_r5IlKCK"
      }
    },
    {
      "cell_type": "code",
      "source": [
        "df.groupby('is_canceled')['lead_time'].mean()"
      ],
      "metadata": {
        "colab": {
          "base_uri": "https://localhost:8080/",
          "height": 178
        },
        "id": "qFM5sUNClYPp",
        "outputId": "8b020fd6-442e-444a-ce34-e977529cf3ae"
      },
      "execution_count": null,
      "outputs": [
        {
          "output_type": "execute_result",
          "data": {
            "text/plain": [
              "is_canceled\n",
              "0    179.526012\n",
              "1    185.831169\n",
              "Name: lead_time, dtype: float64"
            ],
            "text/html": [
              "<div>\n",
              "<style scoped>\n",
              "    .dataframe tbody tr th:only-of-type {\n",
              "        vertical-align: middle;\n",
              "    }\n",
              "\n",
              "    .dataframe tbody tr th {\n",
              "        vertical-align: top;\n",
              "    }\n",
              "\n",
              "    .dataframe thead th {\n",
              "        text-align: right;\n",
              "    }\n",
              "</style>\n",
              "<table border=\"1\" class=\"dataframe\">\n",
              "  <thead>\n",
              "    <tr style=\"text-align: right;\">\n",
              "      <th></th>\n",
              "      <th>lead_time</th>\n",
              "    </tr>\n",
              "    <tr>\n",
              "      <th>is_canceled</th>\n",
              "      <th></th>\n",
              "    </tr>\n",
              "  </thead>\n",
              "  <tbody>\n",
              "    <tr>\n",
              "      <th>0</th>\n",
              "      <td>179.526012</td>\n",
              "    </tr>\n",
              "    <tr>\n",
              "      <th>1</th>\n",
              "      <td>185.831169</td>\n",
              "    </tr>\n",
              "  </tbody>\n",
              "</table>\n",
              "</div><br><label><b>dtype:</b> float64</label>"
            ]
          },
          "metadata": {},
          "execution_count": 14
        }
      ]
    },
    {
      "cell_type": "markdown",
      "source": [
        "People who did not cancel usually booked about 179 days early.\n",
        "\n",
        "People who did cancel booked about 186 days early."
      ],
      "metadata": {
        "id": "0xCF_QQUCoxy"
      }
    },
    {
      "cell_type": "markdown",
      "source": [
        "On average, people who book earlier are slightly more likely to cancel."
      ],
      "metadata": {
        "id": "FZECSpylCrsJ"
      }
    },
    {
      "cell_type": "markdown",
      "source": [
        "*“The average lead time for canceled bookings (185.83 days) is slightly higher than for non-canceled bookings (179.53 days), suggesting that bookings made well in advance may have a higher risk of cancellation.”*\n",
        "\n"
      ],
      "metadata": {
        "id": "lEWvS0LZC7Hc"
      }
    },
    {
      "cell_type": "markdown",
      "source": [
        "\n",
        "**Let’s now analyze the next column:** **arrival_month**\n"
      ],
      "metadata": {
        "id": "eoRlXflZDgeb"
      }
    },
    {
      "cell_type": "code",
      "source": [
        "df.groupby(\"arrival_month\")[\"is_canceled\"].mean().sort_index()"
      ],
      "metadata": {
        "colab": {
          "base_uri": "https://localhost:8080/",
          "height": 491
        },
        "id": "X3R5u7EYCw7o",
        "outputId": "e2804762-1f3c-4603-a5f7-f86ba730d65b"
      },
      "execution_count": null,
      "outputs": [
        {
          "output_type": "execute_result",
          "data": {
            "text/plain": [
              "arrival_month\n",
              "1     0.250000\n",
              "2     0.244898\n",
              "3     0.377778\n",
              "4     0.250000\n",
              "5     0.348837\n",
              "6     0.272727\n",
              "7     0.347826\n",
              "8     0.270833\n",
              "9     0.380952\n",
              "10    0.428571\n",
              "11    0.250000\n",
              "12    0.250000\n",
              "Name: is_canceled, dtype: float64"
            ],
            "text/html": [
              "<div>\n",
              "<style scoped>\n",
              "    .dataframe tbody tr th:only-of-type {\n",
              "        vertical-align: middle;\n",
              "    }\n",
              "\n",
              "    .dataframe tbody tr th {\n",
              "        vertical-align: top;\n",
              "    }\n",
              "\n",
              "    .dataframe thead th {\n",
              "        text-align: right;\n",
              "    }\n",
              "</style>\n",
              "<table border=\"1\" class=\"dataframe\">\n",
              "  <thead>\n",
              "    <tr style=\"text-align: right;\">\n",
              "      <th></th>\n",
              "      <th>is_canceled</th>\n",
              "    </tr>\n",
              "    <tr>\n",
              "      <th>arrival_month</th>\n",
              "      <th></th>\n",
              "    </tr>\n",
              "  </thead>\n",
              "  <tbody>\n",
              "    <tr>\n",
              "      <th>1</th>\n",
              "      <td>0.250000</td>\n",
              "    </tr>\n",
              "    <tr>\n",
              "      <th>2</th>\n",
              "      <td>0.244898</td>\n",
              "    </tr>\n",
              "    <tr>\n",
              "      <th>3</th>\n",
              "      <td>0.377778</td>\n",
              "    </tr>\n",
              "    <tr>\n",
              "      <th>4</th>\n",
              "      <td>0.250000</td>\n",
              "    </tr>\n",
              "    <tr>\n",
              "      <th>5</th>\n",
              "      <td>0.348837</td>\n",
              "    </tr>\n",
              "    <tr>\n",
              "      <th>6</th>\n",
              "      <td>0.272727</td>\n",
              "    </tr>\n",
              "    <tr>\n",
              "      <th>7</th>\n",
              "      <td>0.347826</td>\n",
              "    </tr>\n",
              "    <tr>\n",
              "      <th>8</th>\n",
              "      <td>0.270833</td>\n",
              "    </tr>\n",
              "    <tr>\n",
              "      <th>9</th>\n",
              "      <td>0.380952</td>\n",
              "    </tr>\n",
              "    <tr>\n",
              "      <th>10</th>\n",
              "      <td>0.428571</td>\n",
              "    </tr>\n",
              "    <tr>\n",
              "      <th>11</th>\n",
              "      <td>0.250000</td>\n",
              "    </tr>\n",
              "    <tr>\n",
              "      <th>12</th>\n",
              "      <td>0.250000</td>\n",
              "    </tr>\n",
              "  </tbody>\n",
              "</table>\n",
              "</div><br><label><b>dtype:</b> float64</label>"
            ]
          },
          "metadata": {},
          "execution_count": 15
        }
      ]
    },
    {
      "cell_type": "markdown",
      "source": [
        " Interpretation:\n",
        "\n",
        "Highest cancellations happen in October (43%), September (38%), and March (38%).\n",
        "\n",
        "Lowest cancellations are in February (24.5%), January (25%), and April (25%).*italicized text*"
      ],
      "metadata": {
        "id": "uzsLJ18BETn9"
      }
    },
    {
      "cell_type": "markdown",
      "source": [
        "***Let’s plot the cancellation rate by month using matplotlib***"
      ],
      "metadata": {
        "id": "LbhjpA4LEdWe"
      }
    },
    {
      "cell_type": "code",
      "source": [
        "import matplotlib.pyplot as plt\n",
        "cancel_rate_by_month={\n",
        "    1: 0.250000,\n",
        "    2: 0.244898,\n",
        "    3: 0.377778,\n",
        "    4: 0.250000,\n",
        "    5: 0.348837,\n",
        "    6: 0.272727,\n",
        "    7: 0.347826,\n",
        "    8: 0.270833,\n",
        "    9: 0.380952,\n",
        "    10: 0.428571,\n",
        "    11: 0.250000,\n",
        "    12: 0.250000\n",
        "}\n",
        "# Separate keys and values\n",
        "#This is because Matplotlib needs separate x and y values to make a chart.\n",
        "months=list(cancel_rate_by_month.keys())\n",
        "rates=list(cancel_rate_by_month.values())\n",
        "\n",
        "# months label\n",
        "month_label=['Jan', 'Feb', 'Mar', 'Apr', 'May', 'Jun',\n",
        "                'Jul', 'Aug', 'Sep', 'Oct', 'Nov', 'Dec']\n",
        "\n",
        "#plotting\n",
        "plt.figure(figsize=(6,3))\n",
        "plt.bar(month_label,rates,color='skyblue')\n",
        "plt.title('Hotel Booking Cancellation Rate by Month')\n",
        "plt.xlabel('Month')\n",
        "plt.ylabel('Cancellation Rate')\n",
        "plt.xlabel('Cancelation Rate')\n",
        "plt.ylim(0,0.5)\n",
        "plt.grid(axis='y',linestyle='--',alpha=0.5)\n",
        "plt.tight_layout()\n",
        "plt.show()\n"
      ],
      "metadata": {
        "colab": {
          "base_uri": "https://localhost:8080/",
          "height": 307
        },
        "id": "oLyYnWLmEgG5",
        "outputId": "b7025ff5-9883-47a6-e76e-455cd6113eab"
      },
      "execution_count": null,
      "outputs": [
        {
          "output_type": "display_data",
          "data": {
            "text/plain": [
              "<Figure size 600x300 with 1 Axes>"
            ],
            "image/png": "[encoded data removed]"
          },
          "metadata": {}
        }
      ]
    },
    {
      "cell_type": "markdown",
      "source": [
        ": Create lead time ranges (buckets)\n",
        "We’ll divide lead times into categories like:\n",
        "\n",
        "Short (0–30 days)\n",
        "\n",
        "Medium (31–90 days)\n",
        "\n",
        "Long (91–180 days)\n",
        "\n",
        "Very Long (181+ days)"
      ],
      "metadata": {
        "id": "tKv9YrwSSm5B"
      }
    },
    {
      "cell_type": "code",
      "source": [
        "def lead_time_bucket(days):\n",
        "  if days<=30:\n",
        "    return 'short(0-30)'\n",
        "  elif days <= 90:\n",
        "      return 'Medium (31-90)'\n",
        "  elif days <= 180:\n",
        "      return 'Long (91-180)'\n",
        "  else:\n",
        "      return 'Very Long (181+)'"
      ],
      "metadata": {
        "id": "fI85rprdGhCX"
      },
      "execution_count": null,
      "outputs": []
    },
    {
      "cell_type": "code",
      "source": [
        "\n",
        "# Apply this function to create a new column\n",
        "df['lead_time_category']=df['lead_time'].apply(lead_time_bucket)\n",
        "\n",
        "# Group by this category and calculate average cancellation\n",
        "lead_time_cancellation=df.groupby('lead_time_category')['is_canceled'].mean()\n",
        "\n",
        "# Show the result\n",
        "print(lead_time_cancellation)"
      ],
      "metadata": {
        "colab": {
          "base_uri": "https://localhost:8080/"
        },
        "id": "CQmKZuZhTC_H",
        "outputId": "28b2b133-cd05-43de-c359-475846f46904"
      },
      "execution_count": null,
      "outputs": [
        {
          "output_type": "stream",
          "name": "stdout",
          "text": [
            "lead_time_category\n",
            "Long (91-180)       0.333333\n",
            "Medium (31-90)      0.256410\n",
            "Very Long (181+)    0.317073\n",
            "short(0-30)         0.276596\n",
            "Name: is_canceled, dtype: float64\n"
          ]
        }
      ]
    },
    {
      "cell_type": "markdown",
      "source": [
        "Plot it"
      ],
      "metadata": {
        "id": "1ixD1HnHU4Js"
      }
    },
    {
      "cell_type": "code",
      "source": [
        "# Plotting the cancellation rate by lead time category\n",
        "lead_time_cancellation=lead_time_cancellation.sort_index()\n",
        "\n",
        "plt.figure(figsize=(6,3))\n",
        "x_labels=lead_time_cancellation.index.astype(str)\n",
        "plt.bar(x_labels, lead_time_cancellation.values,color='orange')\n",
        "plt.title('Cancellation Rate by Lead Time')\n",
        "plt.xlabel('Lead Time Category')\n",
        "plt.ylabel('Cancellation Rate')\n",
        "plt.ylim(0, 0.6)\n",
        "plt.grid(axis='y', linestyle='--', alpha=0.5)\n",
        "plt.tight_layout()\n",
        "plt.show()"
      ],
      "metadata": {
        "colab": {
          "base_uri": "https://localhost:8080/",
          "height": 307
        },
        "id": "L1qKpYTLU3yO",
        "outputId": "6d2c10b5-f75d-45e6-da8e-0f782eb73294"
      },
      "execution_count": null,
      "outputs": [
        {
          "output_type": "display_data",
          "data": {
            "text/plain": [
              "<Figure size 600x300 with 1 Axes>"
            ],
            "image/png": "[encoded data removed]"
          },
          "metadata": {}
        }
      ]
    },
    {
      "cell_type": "markdown",
      "source": [
        " Let's now analyze how deposit type affects booking cancellations"
      ],
      "metadata": {
        "id": "3ZZNRfxRYQVT"
      }
    },
    {
      "cell_type": "code",
      "source": [
        "print(df['deposit_type'].unique())"
      ],
      "metadata": {
        "colab": {
          "base_uri": "https://localhost:8080/"
        },
        "id": "0wsOyfhxYQ3e",
        "outputId": "73927ac7-77a9-4bb0-f510-ff6a5852e1bf"
      },
      "execution_count": null,
      "outputs": [
        {
          "output_type": "stream",
          "name": "stdout",
          "text": [
            "['Non Refund' 'No Deposit' 'Refundable']\n"
          ]
        }
      ]
    },
    {
      "cell_type": "code",
      "source": [
        "deposit_cancellation=df.groupby('deposit_type')['is_canceled'].mean()\n",
        "print(deposit_cancellation)"
      ],
      "metadata": {
        "colab": {
          "base_uri": "https://localhost:8080/"
        },
        "id": "v2LphV6lYkUC",
        "outputId": "87c9c89d-cff0-4446-b385-cacad3de566a"
      },
      "execution_count": null,
      "outputs": [
        {
          "output_type": "stream",
          "name": "stdout",
          "text": [
            "deposit_type\n",
            "No Deposit    0.324455\n",
            "Non Refund    0.171875\n",
            "Refundable    0.391304\n",
            "Name: is_canceled, dtype: float64\n"
          ]
        }
      ]
    },
    {
      "cell_type": "markdown",
      "source": [
        " Visualize using a bar chart"
      ],
      "metadata": {
        "id": "WHeQHoqiaUTD"
      }
    },
    {
      "cell_type": "code",
      "source": [
        "plt.figure(figsize=(6,4))\n",
        "plt.bar(deposit_cancellation.index,deposit_cancellation.values,color=\"purple\")\n",
        "plt.title('Cancellation Rate by Deposit Type')\n",
        "plt.title('Cancellation Rate by Deposit Type')\n",
        "plt.xlabel('Deposit Type')\n",
        "plt.ylabel('Cancellation Rate')\n",
        "plt.ylim(0, 1)\n",
        "plt.grid(axis='y',linestyle=\"--\",alpha=0.5)\n",
        "plt.tight_layout()\n",
        "plt.show()\n"
      ],
      "metadata": {
        "colab": {
          "base_uri": "https://localhost:8080/",
          "height": 407
        },
        "id": "UBrrlnsFaVfr",
        "outputId": "aa76fa24-c5e2-461c-85fd-846bd9546137"
      },
      "execution_count": null,
      "outputs": [
        {
          "output_type": "display_data",
          "data": {
            "text/plain": [
              "<Figure size 600x400 with 1 Axes>"
            ],
            "image/png": "[encoded data removed]"
          },
          "metadata": {}
        }
      ]
    },
    {
      "cell_type": "markdown",
      "source": [
        "Analyze Customer Type vs Cancellation\n",
        "\n",
        "This helps answer:\n",
        "\n",
        "\n",
        "“Do certain customer types cancel more than others?”"
      ],
      "metadata": {
        "id": "CrmVB_-ugL6g"
      }
    },
    {
      "cell_type": "markdown",
      "source": [
        "✅ Step 1: View unique values in customer_type\n",
        "python\n",
        "Copy code\n"
      ],
      "metadata": {
        "id": "ZQSBC66TgZOd"
      }
    },
    {
      "cell_type": "code",
      "source": [
        "print(df['customer_type'].unique())"
      ],
      "metadata": {
        "colab": {
          "base_uri": "https://localhost:8080/"
        },
        "id": "t-HZh_AugNF5",
        "outputId": "e99012a5-0d39-479e-b9cc-f602c8960c1a"
      },
      "execution_count": null,
      "outputs": [
        {
          "output_type": "stream",
          "name": "stdout",
          "text": [
            "['Contract' 'Transient' 'Group' 'Transient-Party']\n"
          ]
        }
      ]
    },
    {
      "cell_type": "markdown",
      "source": [
        "✅ Step 2: Group and get cancellation rate"
      ],
      "metadata": {
        "id": "XBxw0zT_ga2z"
      }
    },
    {
      "cell_type": "code",
      "source": [
        "customer_type_cancellation=df.groupby('customer_type')['is_canceled'].mean()\n",
        "print(customer_type_cancellation)"
      ],
      "metadata": {
        "colab": {
          "base_uri": "https://localhost:8080/"
        },
        "id": "5AhCvb5ZgWhj",
        "outputId": "62ad1049-6601-4a1f-ad34-f0836e212f0e"
      },
      "execution_count": null,
      "outputs": [
        {
          "output_type": "stream",
          "name": "stdout",
          "text": [
            "customer_type\n",
            "Contract           0.290323\n",
            "Group              0.297297\n",
            "Transient          0.305344\n",
            "Transient-Party    0.335821\n",
            "Name: is_canceled, dtype: float64\n"
          ]
        }
      ]
    },
    {
      "cell_type": "markdown",
      "source": [
        "Now plot the data"
      ],
      "metadata": {
        "id": "TWSI3pgfgqQa"
      }
    },
    {
      "cell_type": "code",
      "source": [
        "plt.figure(figsize=(5,3))\n",
        "plt.bar(customer_type_cancellation.index,customer_type_cancellation.values,color=\"green\")\n",
        "plt.title('Cancellation Rate by Customer Type')\n",
        "plt.xlabel('Customer Type')\n",
        "plt.ylabel('Cancellation Rate')\n",
        "plt.ylim(0,1)\n",
        "plt.grid(axis='y',linestyle='--',alpha=0.5)\n",
        "plt.tight_layout()\n",
        "plt.show()"
      ],
      "metadata": {
        "colab": {
          "base_uri": "https://localhost:8080/",
          "height": 307
        },
        "id": "PG4m3yimgsZB",
        "outputId": "d49b19c4-3eac-4f31-8796-7c9c5e5ad452"
      },
      "execution_count": null,
      "outputs": [
        {
          "output_type": "display_data",
          "data": {
            "text/plain": [
              "<Figure size 500x300 with 1 Axes>"
            ],
            "image/png": "[encoded data removed]"
          },
          "metadata": {}
        }
      ]
    },
    {
      "cell_type": "markdown",
      "source": [
        "**What This Graph Tells Us**"
      ],
      "metadata": {
        "id": "9u25r2gDhiPi"
      }
    },
    {
      "cell_type": "markdown",
      "source": [
        "All types (Contract, Group, Transient, Transient-Party) have similar cancellation rates — around 30%.\n",
        "\n",
        "\n",
        "But Transient-Party customers seem to cancel slightly more than the rest.\n",
        "\n",
        "\n",
        "Contract customers have the lowest cancellation rate, meaning these bookings are more likely to be confirmed and honored."
      ],
      "metadata": {
        "id": "WcxoTexBhbAT"
      }
    },
    {
      "cell_type": "markdown",
      "source": [
        "Conclusion:\n",
        "\n",
        "\"The type of customer affects cancellations slightly. Contract customers cancel the least, while Transient-Party customers cancel the most — but the difference is not huge.\""
      ],
      "metadata": {
        "id": "0Ch8v_Bahrn9"
      }
    },
    {
      "cell_type": "markdown",
      "source": [
        "# *** Hotel Booking Cancellation Analysis – Summary Report***"
      ],
      "metadata": {
        "id": "IpZJT6Bki31W"
      }
    },
    {
      "cell_type": "markdown",
      "source": [
        "Key Columns:\n",
        "\n",
        "lead_time: Number of days between booking and check-in\n",
        "\n",
        "\n",
        "deposit_type: Type of deposit required\n",
        "\n",
        "\n",
        "customer_type: Type of guest (e.g., Contract, Transient)\n",
        "\n",
        "\n",
        "is_canceled: Whether the booking was canceled (1) or not (0)\n",
        "\n",
        "\n",
        "🔍 Key Findings:\n",
        "\n",
        "1.Cancellation vs. Lead Time\n",
        "Bookings with longer lead time tend to get canceled more.\n",
        "\n",
        "2.People booking far in advance may change plans later, leading to cancellations."
      ],
      "metadata": {
        "id": "9kEOkwbCjAIL"
      }
    },
    {
      "cell_type": "code",
      "source": [],
      "metadata": {
        "id": "QGRI61_oxMdc"
      },
      "execution_count": null,
      "outputs": []
    }
  ]
}